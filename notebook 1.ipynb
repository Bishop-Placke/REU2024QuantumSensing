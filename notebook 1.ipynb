{
 "cells": [
  {
   "cell_type": "code",
   "execution_count": null,
   "metadata": {},
   "outputs": [],
   "source": [
    "from matplotlib import pyplot as plt\n",
    "import numpy as np\n",
    "\n",
    "fig, ax = plt.subplots()\n",
    "\n",
    "mean=[3,2]\n",
    "cov=[[6,0],[0,6]]\n",
    "x1, y1 = np.random.multivariate_normal(mean, cov, 500).T\n",
    "x2, y2 = np.random.multivariate_normal([], [[6, -3], [-3, 3.5]], 500).T\n",
    "\n",
    "ax.scatter(x=x1, y=y1, c=\"red\")\n",
    "ax.scatter(x=x2, y=y2, c=\"blue\")\n",
    "ax.set(title=\"Some random data, created with JupyterLab!\")\n",
    "plt.show()"
   ]
  },
  {
   "cell_type": "code",
   "execution_count": null,
   "metadata": {},
   "outputs": [],
   "source": []
  }
 ],
 "metadata": {
  "language_info": {
   "name": "python"
  }
 },
 "nbformat": 4,
 "nbformat_minor": 2
}
